{
 "cells": [
  {
   "attachments": {
    "image.png": {
     "image/png": "[encoded data removed]"
    }
   },
   "cell_type": "markdown",
   "id": "94973d41",
   "metadata": {},
   "source": [
    "# Problem: \n",
    "\n",
    "Agriculture in India has been historically influenced by seasonal plantation. This means that farmers generally tend to plant crops according to a set trend i.e wheat ina  certain season, sugarcane in a certain season and so on.\n",
    "\n",
    "With the rise of organic products, having fresh products all year round is becoming more and more important to consumers. In order to supply these fresh fruits, farmers need to plant crops off-season. These off-season crops are particularly profitable due to their high export value (high value due to demand for organic fruits locally and abroad high off-season). Planting off-season also comes however with associated costs. Increase in pesticides and artifical irrigation proved to be integral for off-season plantation to work.\n",
    "\n",
    "Source: https://www.sciencedirect.com/science/article/pii/S0306919216300069\n",
    "\n",
    "In this model we explore whether the associated initial investment for off-season plantation is worth it. We do this by finidng out the casual effect of using a binary variable of 0 for no off-season plantation and 1 for off-season plantation on revenue at the end of the year.\n",
    "\n",
    "This causal effect will indicate to us the associated increase or decrease in revenue with off-season plantation. \n",
    "\n",
    "Price variation of jaggery with time:\n",
    "\n",
    "![image.png](attachment:image.png)\n",
    "\n",
    "Source: https://www.napanta.com/market-trend/maharashtra/pune/baramati/gur-jaggery/other\n",
    "\n"
   ]
  },
  {
   "cell_type": "markdown",
   "id": "d70b8a09",
   "metadata": {},
   "source": [
    "# Data:\n",
    "\n",
    "<table ><tr><th >Feature <th><th> Details<tr><tr>\n",
    "<tr><td> PrevRevenue <td><td> Revenue generated for sugarcane planted in 2020 November- 2021 April per acre(always planted in-season) <td><tr>\n",
    "<tr><td> NextRevenue <td><td> Outcome Variable, Revenue generated for sugarcane planted in 2021-2022 season per acre(off-season or in-season) <td><tr>\n",
    "<tr><td> Off-Season <td><td> Treatment Variable, Indicates whether sugarcane planted in off-season: 1 or not : 0 <td><tr>\n",
    "<tr><td> Wealth <td><td> Instrument Variable, Indicates whether farmer above 50th percentile of per capita income in Baramati <td><tr>\n",
    "<tr><td> GlobalTrend <td><td> A global trends towards increasing prices (eg: War): 10-5 or decreasing prices (eg: foreign government incentivizing their farmers) :5-0  <td><tr>\n",
    "<tr><td> PlantationMonth <td><td> 1-12 indicating month of plantation January - December <td><tr>\n",
    "<tr><td> AssociatedCost <td><td> Cost as a function of a farmer's available capital<td><tr><table><table>\n",
    "\n",
    "\n",
    "    \n",
    "    \n",
    "Since wealthy farmers are more likely to be able to afford off-season crop plantation and have the knowledge to do so, it is set as the instrument variable. \n",
    "\n",
    "    \n",
    "Outcome variable will indicate change in outcome through measuring and identifying the causal effect. \n",
    "Data where the previous and next season are planted in season will show the natural increase/decrease in price and thus act as a control.\n",
    "    \n",
    "The associated cost is also an important causal quantity as high initial investments dissuade farmers from investing in off-season plantation despite long term profits. \n",
    " "
   ]
  },
  {
   "cell_type": "markdown",
   "id": "34a9c379",
   "metadata": {},
   "source": [
    "# Creating Simulated Data"
   ]
  },
  {
   "cell_type": "code",
   "execution_count": 2,
   "id": "0f65e565",
   "metadata": {},
   "outputs": [
    {
     "name": "stdout",
     "output_type": "stream",
     "text": [
      "0       1\n",
      "1      11\n",
      "2       4\n",
      "3      10\n",
      "4       5\n",
      "       ..\n",
      "995     5\n",
      "996     5\n",
      "997     6\n",
      "998     1\n",
      "999     0\n",
      "Length: 1000, dtype: int64\n",
      "0       2\n",
      "1       6\n",
      "2       8\n",
      "3       4\n",
      "4       8\n",
      "       ..\n",
      "995    10\n",
      "996     8\n",
      "997     8\n",
      "998     0\n",
      "999     2\n",
      "Length: 1000, dtype: int64\n"
     ]
    }
   ],
   "source": [
    "import pandas as pd\n",
    "import numpy as np\n",
    "import random\n",
    "\n",
    "farmers = 1000\n",
    "\n",
    "#setting of plantation month to determine global trends in sugarcane prices at the moment\n",
    "month = pd.Series(1)\n",
    "\n",
    "i=1\n",
    "while(i<1000):\n",
    "    rand = random.randint(0,12)\n",
    "    month.at[month.index[-1]+1]=rand\n",
    "    i+=1\n",
    "\n",
    "#setting of trends according to general world prices (price increase due to war in March, slow approach of fulfilling demand in\n",
    "# August)\n",
    "trend = pd.Series(2)\n",
    "\n",
    "j=1\n",
    "while (j < 1000):\n",
    "    rand = random.randint(0,2)\n",
    "    rand2 = random.randint(0,1)\n",
    "    if (month.at[j]<3):\n",
    "        if(rand2):\n",
    "            trend.at[trend.index[-1]+1] = 2+rand \n",
    "        else:\n",
    "            trend.at[trend.index[-1]+1] = 2-rand\n",
    "        j+=1\n",
    "        continue\n",
    "    if (month.at[j]<8):\n",
    "        if(rand2):\n",
    "            trend.at[trend.index[-1]+1] = 8+rand\n",
    "        else:\n",
    "            trend.at[trend.index[-1]+1] = 8-rand\n",
    "        j+=1\n",
    "        continue\n",
    "    else:\n",
    "        if(rand2):\n",
    "            trend.at[trend.index[-1]+1] = 5+rand\n",
    "        else:\n",
    "            trend.at[trend.index[-1]+1] = 5-rand\n",
    "        j+=1\n",
    "    \n",
    "#setting on previous \n",
    "print(month)\n",
    "print(trend)"
   ]
  },
  {
   "cell_type": "markdown",
   "id": "2f54228d",
   "metadata": {},
   "source": [
    "Due to lack of data on the exact economic situation in Baramti, we can create simulated data based on the assumption that 3/10 people are farmers and 1/4 people lie below the poverty line. \n",
    "Source: https://mahasdb.maharashtra.gov.in/SDB_Reports/Pune/PDF/2010-11_Pune_DSA_8_28.pdf\n",
    "\n"
   ]
  },
  {
   "cell_type": "code",
   "execution_count": 3,
   "id": "583b6dff",
   "metadata": {},
   "outputs": [
    {
     "name": "stdout",
     "output_type": "stream",
     "text": [
      "0      0\n",
      "1      0\n",
      "2      1\n",
      "3      0\n",
      "4      1\n",
      "      ..\n",
      "995    1\n",
      "996    0\n",
      "997    0\n",
      "998    0\n",
      "999    1\n",
      "Length: 1000, dtype: int64\n"
     ]
    }
   ],
   "source": [
    "#setting wealth\n",
    "\n",
    "wealth = pd.Series(0)\n",
    "\n",
    "i=1\n",
    "while (i<farmers):\n",
    "    rand = random.randint(0,9)\n",
    "    if(rand<=6):\n",
    "        wealth.at[wealth.index[-1]+1] = 0\n",
    "    else:\n",
    "        wealth.at[wealth.index[-1]+1] = 1\n",
    "    i+=1\n",
    "print(wealth)"
   ]
  },
  {
   "cell_type": "markdown",
   "id": "b5a0da24",
   "metadata": {},
   "source": [
    "According to the above sourced article on off-season plantation, fertilizer cost tend to go up by 56% in the off-season. We can also assume that wealthy farmers have reasonable access to artifical irrigation. Thus we can calculate the increase in costs for both wealthy and poor farmers.\n",
    "\n",
    "Cost of persticide per acre : 350 INR\n",
    "Source : http://www.shanlaxjournals.in/pdf/ECO/V1N3/ECO_V1_N3_002.pdf\n",
    "\n",
    "Assuming around 10% margin of error for increased costs we get an increase of 46-66% in the off-season.\n",
    "\n",
    "Artifical irrigation costs 50,000 INR as an initial investment. 101952 litres of water are needed to irrigate an inch of an acre. Drip irrigation required 10% of this raw amount. Sugarcane needs on average 20 inches of water. The final amount of water converts to approximately 200,000 litres of water needed for drip irrigation. Assuming a rate of 33 INR per kilo litre, we get a cost of 5940 per year. \n",
    "\n",
    "For a poor farmer we can assume an associated cost of Rs 50,000 + 5940 + 350 per year.\n",
    "\n",
    "For a wealthy farmer we can assume a cost of 6000 + 700 a year (using slightly higher quality products)\n"
   ]
  },
  {
   "cell_type": "code",
   "execution_count": 4,
   "id": "c34ef6fe",
   "metadata": {},
   "outputs": [
    {
     "name": "stdout",
     "output_type": "stream",
     "text": [
      "0      55000\n",
      "1      54921\n",
      "2       6984\n",
      "3      52851\n",
      "4       6868\n",
      "       ...  \n",
      "995     7095\n",
      "996    53460\n",
      "997    53589\n",
      "998    54148\n",
      "999     6960\n",
      "Length: 1000, dtype: int64\n"
     ]
    }
   ],
   "source": [
    "#setting associated costs\n",
    "cost = pd.Series(55000)\n",
    "i=1\n",
    "while (i< farmers):\n",
    "    rand1 = random.randint(0,3000)\n",
    "    rand2 = random.randint(0,500)\n",
    "    if(wealth[i]==0):\n",
    "        cost.at[cost.index[-1]+1] = 55000-rand1 #noise for each farmer depending on government subsidies\n",
    "    else:\n",
    "        cost.at[cost.index[-1]+1] = 6700+rand2 #noise for each farmer depending on the quality of products used\n",
    "    i+=1   \n",
    "print(cost)    "
   ]
  },
  {
   "cell_type": "markdown",
   "id": "25496b79",
   "metadata": {},
   "source": [
    "Profit per acre of sugarcane in season is approximately 50,000-60,000 INR for poor farmers. \n",
    "Source: http://www.shanlaxjournals.in/pdf/ECO/V1N3/ECO_V1_N3_002.pdf\n",
    "\n",
    "Profit per acre of sugarcane in season is approximately 80,000 INR for wealty farmers.\n",
    "\n",
    "We'll assume noise 5,000 INR for poor farmers and 7,000 INR for rich farmers."
   ]
  },
  {
   "cell_type": "code",
   "execution_count": 5,
   "id": "c60d81b8",
   "metadata": {},
   "outputs": [
    {
     "name": "stdout",
     "output_type": "stream",
     "text": [
      "0      55000\n",
      "1      53695\n",
      "2      81537\n",
      "3      54001\n",
      "4      68730\n",
      "       ...  \n",
      "995    70677\n",
      "996    47902\n",
      "997    48379\n",
      "998    46790\n",
      "999    77974\n",
      "Length: 1000, dtype: int64\n"
     ]
    }
   ],
   "source": [
    "#setting revenue for in season farming\n",
    "\n",
    "prevrev = pd.Series(55000)\n",
    "\n",
    "i=1\n",
    "while (i<farmers):\n",
    "    rand = random.randint(0,5000)\n",
    "    rand1 = random.randint(0,7000)\n",
    "    rand2 = random.randint(0,1)\n",
    "    if (wealth[i]):\n",
    "        if(rand2):\n",
    "            prevrev.at[prevrev.index[-1]+1] =  75000 + rand1 #noise\n",
    "        else:\n",
    "            prevrev.at[prevrev.index[-1]+1] = 75000-rand1 #noise\n",
    "        i+=1\n",
    "        continue\n",
    "    else:\n",
    "        if(rand2):\n",
    "            prevrev.at[prevrev.index[-1]+1] =  50000 + rand #noise\n",
    "        else:\n",
    "            prevrev.at[prevrev.index[-1]+1] =  50000 - rand #noise\n",
    "        i+=1\n",
    "print(prevrev)"
   ]
  },
  {
   "cell_type": "markdown",
   "id": "3944bb7b",
   "metadata": {},
   "source": [
    "A majority of wealthy farmers will tend to plant off-season due to the availability of capital and resources. A small minority of farmers will do so when they lack capital. Thus we use a 9/10 in-season for wealthy farmers and a 3/10 for poor farmers."
   ]
  },
  {
   "cell_type": "code",
   "execution_count": 6,
   "id": "af364b48",
   "metadata": {},
   "outputs": [
    {
     "name": "stdout",
     "output_type": "stream",
     "text": [
      "0      0\n",
      "1      1\n",
      "2      1\n",
      "3      0\n",
      "4      1\n",
      "      ..\n",
      "995    1\n",
      "996    0\n",
      "997    0\n",
      "998    1\n",
      "999    1\n",
      "Length: 1000, dtype: int64\n"
     ]
    }
   ],
   "source": [
    "#setting off-season plantation\n",
    "\n",
    "off = pd.Series(0)\n",
    "i=1\n",
    "while(i<farmers):\n",
    "    rand1 = random.randint(0,9)\n",
    "   \n",
    "    if(wealth[i]==1):\n",
    "        if(rand1==9):\n",
    "            off.at[off.index[-1]+1] = 0\n",
    "        else:\n",
    "            off.at[off.index[-1]+1] = 1\n",
    "    else:\n",
    "        if (rand1<3):\n",
    "            off.at[off.index[-1]+1] = 1\n",
    "        else:\n",
    "            off.at[off.index[-1]+1] = 0\n",
    "    i+=1\n",
    "print(off)"
   ]
  },
  {
   "cell_type": "markdown",
   "id": "6055a0a3",
   "metadata": {},
   "source": [
    "Since we have an approximate that revenue tends to increase by ~50% per acre for off-season planting, we can accordingly calculate the increase in revenue for treated farmers (off-season planters) as a 50% increase in adjusted revenue (adjusted revenue being the revenue adjusted with respect to average increase in prices). Assuming a 8% inflation rate in India, we can adjust prices by 8%"
   ]
  },
  {
   "cell_type": "code",
   "execution_count": 7,
   "id": "19d59514",
   "metadata": {},
   "outputs": [
    {
     "name": "stdout",
     "output_type": "stream",
     "text": [
      "0       60000.0000\n",
      "1       80746.5410\n",
      "2      133557.6060\n",
      "3       50760.9400\n",
      "4      108593.4000\n",
      "          ...     \n",
      "995    115019.7498\n",
      "996     48860.0400\n",
      "997     48862.7900\n",
      "998     64897.7300\n",
      "999    107604.1200\n",
      "Length: 1000, dtype: float64\n"
     ]
    }
   ],
   "source": [
    "#setting next revenue prices\n",
    "\n",
    "nextrev = pd.Series(60000)\n",
    "\n",
    "i=1\n",
    "while(i<farmers):\n",
    "    rand1 = random.randint(0,9)\n",
    "    rand2 = random.randint(0,9)\n",
    "    rand3 = random.randint(0,1)\n",
    "    if(trend[i]<=5):\n",
    "        adjrev = prevrev[i]*(100-rand1)/100\n",
    "    else:\n",
    "        adjrev = prevrev[i]*(100+rand1)/100\n",
    "   \n",
    "    if(off[i]==1):\n",
    "        if(trend[i]>6):\n",
    "            nextrev.at[nextrev.index[-1]+1]=adjrev * (150+rand2)/100\n",
    "        else:\n",
    "            nextrev.at[nextrev.index[-1]+1]=adjrev * (150-rand2)/100\n",
    "    else:\n",
    "        nextrev.at[nextrev.index[-1]+1]=adjrev\n",
    "    i+=1\n",
    "\n",
    "print(nextrev)"
   ]
  },
  {
   "cell_type": "code",
   "execution_count": 8,
   "id": "3e3571d8",
   "metadata": {},
   "outputs": [
    {
     "name": "stdout",
     "output_type": "stream",
     "text": [
      "     PlantationMonth  AssociatedCost  PriceTrend  Wealth  PrevRevenue  \\\n",
      "0                  1           55000           2       0        55000   \n",
      "1                 11           54921           6       0        53695   \n",
      "2                  4            6984           8       1        81537   \n",
      "3                 10           52851           4       0        54001   \n",
      "4                  5            6868           8       1        68730   \n",
      "..               ...             ...         ...     ...          ...   \n",
      "995                5            7095          10       1        70677   \n",
      "996                5           53460           8       0        47902   \n",
      "997                6           53589           8       0        48379   \n",
      "998                1           54148           0       0        46790   \n",
      "999                0            6960           2       1        77974   \n",
      "\n",
      "     OffSeason  NextRevenue  \n",
      "0            0   60000.0000  \n",
      "1            1   80746.5410  \n",
      "2            1  133557.6060  \n",
      "3            0   50760.9400  \n",
      "4            1  108593.4000  \n",
      "..         ...          ...  \n",
      "995          1  115019.7498  \n",
      "996          0   48860.0400  \n",
      "997          0   48862.7900  \n",
      "998          1   64897.7300  \n",
      "999          1  107604.1200  \n",
      "\n",
      "[1000 rows x 7 columns]\n"
     ]
    }
   ],
   "source": [
    "#creating the dataset\n",
    "\n",
    "dict1 = {'PlantationMonth' : month,'AssociatedCost':cost,'PriceTrend':trend,'Wealth':wealth,'PrevRevenue':prevrev,'OffSeason':off\n",
    "        ,'NextRevenue':nextrev}\n",
    "\n",
    "df = pd.DataFrame(dict1)\n",
    "\n",
    "print(df)"
   ]
  },
  {
   "cell_type": "markdown",
   "id": "7840e1e9",
   "metadata": {},
   "source": [
    "# Creating the Casual Graph\n",
    "\n",
    "With the variables now set, we can move on to describing the causal relationships in the graph.\n",
    "\n",
    "Wealth acts as the instrument variable as possesion of capital will encourage the treatment (planting off-season much more than lacking of capital).\n",
    "\n",
    "Price Trend acts as a control. We can check to see the effect of untreated samples by refuting the estimate and then figuring out how a placebo treatment would alter the causal estimate."
   ]
  },
  {
   "cell_type": "markdown",
   "id": "0706f56a",
   "metadata": {},
   "source": [
    "What we are primarily trying to find out is the conditional expectation of Y (which is the next season's revenue) when treated and untreated. We do this by finding out the difference in Y(1) (treated) - Y(0) untreated while using sufficient adjustment sets for the confounders (in this case the PriceTrend)\n",
    "\n",
    "E[Y(1)-Y(0)] = Average Treatment Effect \n",
    "\n",
    "And finding out the expection over all confounders will give us the Conditional Average Treatment Effect ( CATE )"
   ]
  },
  {
   "cell_type": "code",
   "execution_count": 73,
   "id": "dae88bb1",
   "metadata": {},
   "outputs": [
    {
     "name": "stdout",
     "output_type": "stream",
     "text": [
      "digraph {\n",
      "\tOffSeason [label=OffSeason]\n",
      "\tPrevRevenue [label=PrevRevenue]\n",
      "\tNextRevenue [label=NextRevenue]\n",
      "\tPlantationMonth [label=PlantationMonth]\n",
      "\tAssociatedCost [label=AssociatedCost]\n",
      "\tPriceTrend [label=PriceTrend]\n",
      "\tWealth [label=Wealth]\n",
      "\tWealth -> OffSeason\n",
      "\tPrevRevenue -> OffSeason\n",
      "\tOffSeason -> NextRevenue\n",
      "\tPlantationMonth -> OffSeason\n",
      "\tPriceTrend -> NextRevenue\n",
      "\tAssociatedCost -> OffSeason\n",
      "\tPriceTrend -> OffSeason\n",
      "}\n",
      "\n"
     ]
    }
   ],
   "source": [
    "import graphviz\n",
    "\n",
    "\n",
    "from IPython.display import Image, display\n",
    "\n",
    "dot = graphviz.Digraph() \n",
    "\n",
    "dot.node('OffSeason', 'OffSeason')  \n",
    "dot.node('PrevRevenue', 'PrevRevenue')\n",
    "dot.node('NextRevenue', 'NextRevenue')\n",
    "dot.node('PlantationMonth', 'PlantationMonth')\n",
    "dot.node('AssociatedCost','AssociatedCost')\n",
    " \n",
    "dot.node('PriceTrend','PriceTrend')\n",
    "dot.node('Wealth', 'Wealth')\n",
    "\n",
    "dot.edge('Wealth','OffSeason')\n",
    "dot.edge('PrevRevenue','OffSeason')\n",
    "dot.edge('OffSeason','NextRevenue')\n",
    "dot.edge('PlantationMonth','OffSeason')\n",
    "dot.edge('PriceTrend','NextRevenue')\n",
    "dot.edge('AssociatedCost','OffSeason')\n",
    "dot.edge('PriceTrend','OffSeason')\n",
    "\n",
    "\n",
    "print(dot.source)\n",
    "\n"
   ]
  },
  {
   "cell_type": "markdown",
   "id": "c0f8d344",
   "metadata": {},
   "source": [
    "# Viewing the Model\n",
    "\n",
    "We can create a causal model using dowhy and fit in the appropriate data"
   ]
  },
  {
   "cell_type": "code",
   "execution_count": 2,
   "id": "81cbe592",
   "metadata": {},
   "outputs": [
    {
     "ename": "NameError",
     "evalue": "name 'df' is not defined",
     "output_type": "error",
     "traceback": [
      "\u001b[1;31m---------------------------------------------------------------------------\u001b[0m",
      "\u001b[1;31mNameError\u001b[0m                                 Traceback (most recent call last)",
      "Input \u001b[1;32mIn [2]\u001b[0m, in \u001b[0;36m<cell line: 4>\u001b[1;34m()\u001b[0m\n\u001b[0;32m      1\u001b[0m \u001b[38;5;28;01mimport\u001b[39;00m \u001b[38;5;21;01mdowhy\u001b[39;00m\n\u001b[1;32m----> 4\u001b[0m model \u001b[38;5;241m=\u001b[39m dowhy\u001b[38;5;241m.\u001b[39mCausalModel(data\u001b[38;5;241m=\u001b[39m\u001b[43mdf\u001b[49m,\n\u001b[0;32m      5\u001b[0m                      graph\u001b[38;5;241m=\u001b[39mdot\u001b[38;5;241m.\u001b[39msource\u001b[38;5;241m.\u001b[39mreplace(\u001b[38;5;124m\"\u001b[39m\u001b[38;5;130;01m\\n\u001b[39;00m\u001b[38;5;124m\"\u001b[39m, \u001b[38;5;124m\"\u001b[39m\u001b[38;5;124m \u001b[39m\u001b[38;5;124m\"\u001b[39m),\n\u001b[0;32m      6\u001b[0m                      treatment\u001b[38;5;241m=\u001b[39m\u001b[38;5;124m\"\u001b[39m\u001b[38;5;124mOffSeason\u001b[39m\u001b[38;5;124m\"\u001b[39m,\n\u001b[0;32m      7\u001b[0m                      outcome\u001b[38;5;241m=\u001b[39m\u001b[38;5;124m\"\u001b[39m\u001b[38;5;124mNextRevenue\u001b[39m\u001b[38;5;124m\"\u001b[39m)\n",
      "\u001b[1;31mNameError\u001b[0m: name 'df' is not defined"
     ]
    }
   ],
   "source": [
    "import dowhy\n",
    "\n",
    "\n",
    "model = dowhy.CausalModel(data=df,\n",
    "                     graph=dot.source.replace(\"\\n\", \" \"),\n",
    "                     treatment=\"OffSeason\",\n",
    "                     outcome=\"NextRevenue\")"
   ]
  },
  {
   "cell_type": "code",
   "execution_count": null,
   "id": "cd84af35",
   "metadata": {},
   "outputs": [],
   "source": [
    "model.view_model()"
   ]
  },
  {
   "cell_type": "markdown",
   "id": "594da3c9",
   "metadata": {},
   "source": [
    "   # Identifying the Estimand\n",
    "   \n",
    "   We can see 2 relationships in the data with respect to the treatment"
   ]
  },
  {
   "cell_type": "code",
   "execution_count": 77,
   "id": "a650aa60",
   "metadata": {},
   "outputs": [
    {
     "name": "stdout",
     "output_type": "stream",
     "text": [
      "Estimand type: nonparametric-ate\n",
      "\n",
      "### Estimand : 1\n",
      "Estimand name: backdoor\n",
      "Estimand expression:\n",
      "     d                                 \n",
      "────────────(E[NextRevenue|PriceTrend])\n",
      "d[OffSeason]                           \n",
      "Estimand assumption 1, Unconfoundedness: If U→{OffSeason} and U→NextRevenue then P(NextRevenue|OffSeason,PriceTrend,U) = P(NextRevenue|OffSeason,PriceTrend)\n",
      "\n",
      "### Estimand : 2\n",
      "Estimand name: iv\n",
      "Estimand expression:\n",
      " ⎡                                                                            \n",
      " ⎢                           d                                         ⎛      \n",
      "E⎢───────────────────────────────────────────────────────(NextRevenue)⋅⎜──────\n",
      " ⎣d[PrevRevenue  Wealth  PlantationMonth  AssociatedCost]              ⎝d[Prev\n",
      "\n",
      "                                                               -1⎤\n",
      "                     d                                        ⎞  ⎥\n",
      "─────────────────────────────────────────────────([OffSeason])⎟  ⎥\n",
      "Revenue  Wealth  PlantationMonth  AssociatedCost]             ⎠  ⎦\n",
      "Estimand assumption 1, As-if-random: If U→→NextRevenue then ¬(U →→{PrevRevenue,Wealth,PlantationMonth,AssociatedCost})\n",
      "Estimand assumption 2, Exclusion: If we remove {PrevRevenue,Wealth,PlantationMonth,AssociatedCost}→{OffSeason}, then ¬({PrevRevenue,Wealth,PlantationMonth,AssociatedCost}→NextRevenue)\n",
      "\n",
      "### Estimand : 3\n",
      "Estimand name: frontdoor\n",
      "No such variable(s) found!\n",
      "\n"
     ]
    }
   ],
   "source": [
    "identified_estimand = model.identify_effect(proceed_when_unidentifiable=True)\n",
    "print(identified_estimand)\n"
   ]
  },
  {
   "cell_type": "markdown",
   "id": "18d2a968",
   "metadata": {},
   "source": [
    "# Evaluating the Causal Effect"
   ]
  },
  {
   "cell_type": "code",
   "execution_count": 78,
   "id": "43af3aba",
   "metadata": {},
   "outputs": [
    {
     "name": "stdout",
     "output_type": "stream",
     "text": [
      "propensity_score_matching\n"
     ]
    },
    {
     "name": "stderr",
     "output_type": "stream",
     "text": [
      "A column-vector y was passed when a 1d array was expected. Please change the shape of y to (n_samples, ), for example using ravel().\n"
     ]
    },
    {
     "name": "stdout",
     "output_type": "stream",
     "text": [
      "*** Causal Estimate ***\n",
      "\n",
      "## Identified estimand\n",
      "Estimand type: nonparametric-ate\n",
      "\n",
      "### Estimand : 1\n",
      "Estimand name: backdoor\n",
      "Estimand expression:\n",
      "     d                                 \n",
      "────────────(E[NextRevenue|PriceTrend])\n",
      "d[OffSeason]                           \n",
      "Estimand assumption 1, Unconfoundedness: If U→{OffSeason} and U→NextRevenue then P(NextRevenue|OffSeason,PriceTrend,U) = P(NextRevenue|OffSeason,PriceTrend)\n",
      "\n",
      "## Realized estimand\n",
      "b: NextRevenue~OffSeason+PriceTrend\n",
      "Target units: att\n",
      "\n",
      "## Estimate\n",
      "Mean value: 41396.555607240756\n",
      "\n"
     ]
    }
   ],
   "source": [
    "\n",
    "estimate = model.estimate_effect(identified_estimand, \n",
    "                                 method_name=\"backdoor.propensity_score_matching\",\n",
    "                                target_units=\"att\")\n",
    "print(estimate)"
   ]
  },
  {
   "cell_type": "markdown",
   "id": "e4010ad8",
   "metadata": {},
   "source": [
    "We can see that the causal effect has an approximate value of 41,300. \n",
    "\n",
    "The meaning of this value is that in general revenue generated by farmers tends to increase by upto 41,300 INR when the crops planted are off-season."
   ]
  },
  {
   "cell_type": "markdown",
   "id": "f5144b56",
   "metadata": {},
   "source": [
    "# Refutation\n",
    "\n",
    "In order to determine whether the model is actually observing a causal effect or simply observing a generic trend that was bound to happen independent of the treatment, we can use a placebo treatment to find out the actual effect of planting off-season"
   ]
  },
  {
   "cell_type": "code",
   "execution_count": 79,
   "id": "508c9e52",
   "metadata": {},
   "outputs": [
    {
     "name": "stderr",
     "output_type": "stream",
     "text": [
      "A column-vector y was passed when a 1d array was expected. Please change the shape of y to (n_samples, ), for example using ravel().\n",
      "A column-vector y was passed when a 1d array was expected. Please change the shape of y to (n_samples, ), for example using ravel().\n",
      "A column-vector y was passed when a 1d array was expected. Please change the shape of y to (n_samples, ), for example using ravel().\n",
      "A column-vector y was passed when a 1d array was expected. Please change the shape of y to (n_samples, ), for example using ravel().\n",
      "A column-vector y was passed when a 1d array was expected. Please change the shape of y to (n_samples, ), for example using ravel().\n",
      "A column-vector y was passed when a 1d array was expected. Please change the shape of y to (n_samples, ), for example using ravel().\n",
      "A column-vector y was passed when a 1d array was expected. Please change the shape of y to (n_samples, ), for example using ravel().\n",
      "A column-vector y was passed when a 1d array was expected. Please change the shape of y to (n_samples, ), for example using ravel().\n",
      "A column-vector y was passed when a 1d array was expected. Please change the shape of y to (n_samples, ), for example using ravel().\n",
      "A column-vector y was passed when a 1d array was expected. Please change the shape of y to (n_samples, ), for example using ravel().\n",
      "A column-vector y was passed when a 1d array was expected. Please change the shape of y to (n_samples, ), for example using ravel().\n",
      "A column-vector y was passed when a 1d array was expected. Please change the shape of y to (n_samples, ), for example using ravel().\n",
      "A column-vector y was passed when a 1d array was expected. Please change the shape of y to (n_samples, ), for example using ravel().\n",
      "A column-vector y was passed when a 1d array was expected. Please change the shape of y to (n_samples, ), for example using ravel().\n",
      "A column-vector y was passed when a 1d array was expected. Please change the shape of y to (n_samples, ), for example using ravel().\n",
      "A column-vector y was passed when a 1d array was expected. Please change the shape of y to (n_samples, ), for example using ravel().\n",
      "A column-vector y was passed when a 1d array was expected. Please change the shape of y to (n_samples, ), for example using ravel().\n",
      "A column-vector y was passed when a 1d array was expected. Please change the shape of y to (n_samples, ), for example using ravel().\n",
      "A column-vector y was passed when a 1d array was expected. Please change the shape of y to (n_samples, ), for example using ravel().\n",
      "A column-vector y was passed when a 1d array was expected. Please change the shape of y to (n_samples, ), for example using ravel().\n"
     ]
    },
    {
     "name": "stdout",
     "output_type": "stream",
     "text": [
      "Refute: Use a Placebo Treatment\n",
      "Estimated effect:41396.555607240756\n",
      "New effect:77.72971298434372\n",
      "p value:0.4960698094969705\n",
      "\n"
     ]
    }
   ],
   "source": [
    "\n",
    "refutation = model.refute_estimate(identified_estimand, estimate, method_name=\"placebo_treatment_refuter\",\n",
    "                     placebo_type=\"permute\", num_simulations=20)\n",
    "print(refutation)"
   ]
  },
  {
   "cell_type": "markdown",
   "id": "fa3b91fd",
   "metadata": {},
   "source": [
    "We can see here that if treated with a placebo, we get an average increase in revenue of 77.8 which is much lower than the true estimated effect of 41.3 thousand.\n",
    "\n",
    "This means that our model isn't merely displaying external factors but rather displays true casual effects."
   ]
  },
  {
   "cell_type": "markdown",
   "id": "4ace5d89",
   "metadata": {},
   "source": [
    "# Counterfactuals"
   ]
  },
  {
   "cell_type": "markdown",
   "id": "6455cfad",
   "metadata": {},
   "source": [
    "An important part of causal inference is finding out counterfactuals.\n",
    "\n",
    "For example: Observed data can be a situation wherein a person having a headache, takes a pill and the headache fades i.e Y(1).\n",
    "A problem comes up i.e what if the person hadn;t taken the pill i.e Y(0). What would the outcome Y(0) be? We can't go back in time and then observe what could have been in observation based experiments. \n",
    "\n",
    "Thus DoWhy's gcm helps us generate accurate counterfactuals for certain rows of data."
   ]
  },
  {
   "cell_type": "code",
   "execution_count": 9,
   "id": "23f98258",
   "metadata": {},
   "outputs": [],
   "source": [
    "import networkx as nx, numpy as np, pandas as pd\n",
    "from dowhy import gcm\n",
    "import matplotlib.pyplot as plt"
   ]
  },
  {
   "cell_type": "markdown",
   "id": "5032c0ae",
   "metadata": {},
   "source": [
    "We have to create a new graph in networkx and then fit this graph into an invertible structure causal model"
   ]
  },
  {
   "cell_type": "code",
   "execution_count": 10,
   "id": "4f5a84e3",
   "metadata": {},
   "outputs": [
    {
     "data": {
      "text/plain": [
       "[<matplotlib.patches.FancyArrowPatch at 0x1418577fe20>,\n",
       " <matplotlib.patches.FancyArrowPatch at 0x1418578d100>,\n",
       " <matplotlib.patches.FancyArrowPatch at 0x1418578d580>,\n",
       " <matplotlib.patches.FancyArrowPatch at 0x1418578d820>,\n",
       " <matplotlib.patches.FancyArrowPatch at 0x1418578dac0>,\n",
       " <matplotlib.patches.FancyArrowPatch at 0x1418578dd60>,\n",
       " <matplotlib.patches.FancyArrowPatch at 0x1418578dfa0>]"
      ]
     },
     "execution_count": 10,
     "metadata": {},
     "output_type": "execute_result"
    },
    {
     "data": {
      "image/png": "[encoded data removed]",
      "text/plain": [
       "<Figure size 1080x576 with 1 Axes>"
      ]
     },
     "metadata": {},
     "output_type": "display_data"
    }
   ],
   "source": [
    "causal_graph = nx.DiGraph([('Wealth','OffSeason')\n",
    ",('PrevRevenue','OffSeason')\n",
    ",('OffSeason','NextRevenue')\n",
    ",('PlantationMonth','OffSeason')\n",
    ",('PriceTrend','NextRevenue')\n",
    ",('AssociatedCost','OffSeason')\n",
    ",('PriceTrend','OffSeason')])\n",
    "\n",
    "fig = plt.figure(figsize=(15, 8))  # set figsize\n",
    "ax = fig.add_subplot(1, 1, 1)\n",
    "ax.set_facecolor(\"#001521\")  # set backgrount\n",
    "\n",
    "pos = nx.drawing.layout.circular_layout(causal_graph)\n",
    "\n",
    "nx.draw_networkx_nodes(\n",
    "    causal_graph,\n",
    "    pos,\n",
    "    node_shape=\"H\",\n",
    "    node_size=1000,\n",
    "    linewidths=3,\n",
    "    edgecolors=\"#4a90e2d9\",\n",
    "    node_color=[\"black\"],\n",
    ")\n",
    "# add labels\n",
    "nx.draw_networkx_labels(\n",
    "    causal_graph,\n",
    "    pos,\n",
    "    font_color=\"#FFFFFFD9\",\n",
    "    font_weight=\"bold\",\n",
    "    \n",
    "    font_size=10,\n",
    ")\n",
    "# add edges\n",
    "nx.draw_networkx_edges(\n",
    "    causal_graph,\n",
    "    pos,\n",
    "    edge_color=\"white\",\n",
    "    node_shape=\"H\",\n",
    "    node_size=2000,\n",
    "    \n",
    "    width=[1],\n",
    ")"
   ]
  },
  {
   "cell_type": "code",
   "execution_count": 11,
   "id": "5d090439",
   "metadata": {},
   "outputs": [
    {
     "name": "stderr",
     "output_type": "stream",
     "text": [
      "Fitting causal mechanism of node AssociatedCost: 100%|███████████████████████████████████| 7/7 [00:00<00:00, 12.69it/s]\n"
     ]
    }
   ],
   "source": [
    "causal_model = gcm.InvertibleStructuralCausalModel(causal_graph) \n",
    "gcm.auto.assign_causal_mechanisms(causal_model, df)\n",
    "gcm.fit(causal_model, df)"
   ]
  },
  {
   "cell_type": "markdown",
   "id": "1769b490",
   "metadata": {},
   "source": [
    "This countefactual sample method lets us generate counterfactual examples for rows of data or completely new data based on our news generated causal estimates.\n",
    "\n",
    "For examples the below predictions of NextRevenue are for Y =NextRevenue and predictions show Y| do(T=1)"
   ]
  },
  {
   "cell_type": "code",
   "execution_count": 16,
   "id": "957c10fd",
   "metadata": {},
   "outputs": [
    {
     "name": "stdout",
     "output_type": "stream",
     "text": [
      "     AssociatedCost  PriceTrend  PlantationMonth  PrevRevenue  Wealth  \\\n",
      "0             55000           2                1        55000       0   \n",
      "1             54921           6               11        53695       0   \n",
      "2              6984           8                4        81537       1   \n",
      "3             52851           4               10        54001       0   \n",
      "4              6868           8                5        68730       1   \n",
      "..              ...         ...              ...          ...     ...   \n",
      "995            7095          10                5        70677       1   \n",
      "996           53460           8                5        47902       0   \n",
      "997           53589           8                6        48379       0   \n",
      "998           54148           0                1        46790       0   \n",
      "999            6960           2                0        77974       1   \n",
      "\n",
      "     OffSeason    NextRevenue  \n",
      "0            1   98735.802276  \n",
      "1            1   80746.541000  \n",
      "2            1  133557.606000  \n",
      "3            1   87161.145657  \n",
      "4            1  108593.400000  \n",
      "..         ...            ...  \n",
      "995          1  115019.749800  \n",
      "996          1   98541.158410  \n",
      "997          1   98543.908410  \n",
      "998          1   64897.730000  \n",
      "999          1  107604.120000  \n",
      "\n",
      "[1000 rows x 7 columns]\n",
      "     PlantationMonth  AssociatedCost  PriceTrend  Wealth  PrevRevenue  \\\n",
      "0                  1           55000           2       0        55000   \n",
      "1                 11           54921           6       0        53695   \n",
      "2                  4            6984           8       1        81537   \n",
      "3                 10           52851           4       0        54001   \n",
      "4                  5            6868           8       1        68730   \n",
      "..               ...             ...         ...     ...          ...   \n",
      "995                5            7095          10       1        70677   \n",
      "996                5           53460           8       0        47902   \n",
      "997                6           53589           8       0        48379   \n",
      "998                1           54148           0       0        46790   \n",
      "999                0            6960           2       1        77974   \n",
      "\n",
      "     OffSeason  NextRevenue  \n",
      "0            0   60000.0000  \n",
      "1            1   80746.5410  \n",
      "2            1  133557.6060  \n",
      "3            0   50760.9400  \n",
      "4            1  108593.4000  \n",
      "..         ...          ...  \n",
      "995          1  115019.7498  \n",
      "996          0   48860.0400  \n",
      "997          0   48862.7900  \n",
      "998          1   64897.7300  \n",
      "999          1  107604.1200  \n",
      "\n",
      "[1000 rows x 7 columns]\n",
      "-23276.01694847991  is the average difference between them unadjusted\n"
     ]
    }
   ],
   "source": [
    "pred=gcm.counterfactual_samples(\n",
    "    causal_model,\n",
    "    {'Wealth': lambda x: x,'PriceTrend':lambda x:x, 'AssociatedCost': lambda x : x,'PlantationMonth':lambda x:x,\n",
    "    'PrevRevenue':lambda x :x,'NextRevenue':lambda x : x, 'OffSeason' : lambda x :1},\n",
    "    observed_data=df)\n",
    "print(pred)\n",
    "print(df)\n",
    "\n",
    "print(df['NextRevenue'].mean()- pred['NextRevenue'].mean(), \" is the average difference between them unadjusted\")"
   ]
  },
  {
   "cell_type": "markdown",
   "id": "80730dc6",
   "metadata": {},
   "source": [
    "# Scope for Expansion\n",
    "\n",
    "The associated cost variable can be further expanded by calcluating next profits of treated vs untreated land per acre per year and then figuring out whether the inital investments for them are worth it and figuring out the time required for paying off the investments and getting profit. This time can also be compared by generating counterfactuals as to if they hadn't invested and would be earning their normal revenue in season\n",
    "\n",
    "We can also implement EconMl's SingleTreeCateInterpreter to visual the Conditional Average Treatment Effect better."
   ]
  },
  {
   "cell_type": "code",
   "execution_count": null,
   "id": "3dbe601a",
   "metadata": {},
   "outputs": [],
   "source": []
  }
 ],
 "metadata": {
  "kernelspec": {
   "display_name": "Python 3 (ipykernel)",
   "language": "python",
   "name": "python3"
  },
  "language_info": {
   "codemirror_mode": {
    "name": "ipython",
    "version": 3
   },
   "file_extension": ".py",
   "mimetype": "text/x-python",
   "name": "python",
   "nbconvert_exporter": "python",
   "pygments_lexer": "ipython3",
   "version": "3.9.12"
  }
 },
 "nbformat": 4,
 "nbformat_minor": 5
}
